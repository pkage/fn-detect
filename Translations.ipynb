{
 "cells": [
  {
   "cell_type": "markdown",
   "metadata": {},
   "source": [
    "# Translation part"
   ]
  },
  {
   "cell_type": "code",
   "execution_count": 1,
   "metadata": {
    "collapsed": true
   },
   "outputs": [],
   "source": [
    "from textblob import TextBlob"
   ]
  },
  {
   "cell_type": "code",
   "execution_count": 15,
   "metadata": {
    "collapsed": true
   },
   "outputs": [],
   "source": [
    "longer_text = u\"\"\"Washington (CNN) For months, the White House and Congress have wrangled over a bill that would give lawmakers a greater say in the Iran nuclear deal the administration is hammering out along with other world powers.\n",
    "\n",
    "And now, less than two weeks after a framework agreement with Tehran was reached, the Senate Foreign Relations Committee is planning to take up the measure.\n",
    "\n",
    "On Tuesday, the committee will consider amendments to Tennessee Republican Sen. Bob Corker's Iran Nuclear Agreement Review Act before deciding whether to have the full Senate vote on it.\n",
    "\n",
    "For many in Congress, it's a very simple premise: Congress should weigh in on the terms of a final nuclear deal with Iran.\n",
    "\n",
    "But for the White House, and some Democrats in Congress, that's an explosive idea that could derail the talks â€” and therefore must be stopped.\n",
    "\n",
    "So what's in the bill?\n",
    "\n",
    "Supporters of the legislation have emphasized that it would allow Congress to give a thumbs up or down on the deal President Barack Obama is aiming to finalize with Iran by the negotiations' June 30 deadline. Backers think that's only fair since the United States is contemplating a major nuclear pact with a decadeslong enemy.\n",
    "\n",
    "The bill would give Congress a chance to hold hearings, host briefings and pave the way to a vote on a joint resolution that could express approval or disapproval of the deal. It also requires the Obama administration to quickly report to Congress on details of the deal and regularly assess whether Iran is keeping its \n",
    "\"\"\""
   ]
  },
  {
   "cell_type": "code",
   "execution_count": 7,
   "metadata": {
    "collapsed": true
   },
   "outputs": [],
   "source": [
    "en_blob = TextBlob(u'Simple is better than complex.')"
   ]
  },
  {
   "cell_type": "code",
   "execution_count": 8,
   "metadata": {
    "collapsed": true
   },
   "outputs": [],
   "source": [
    "es_blob = TextBlob(u'Simple es mejor que complejo.')"
   ]
  },
  {
   "cell_type": "code",
   "execution_count": 9,
   "metadata": {},
   "outputs": [
    {
     "data": {
      "text/plain": [
       "'Simple es mejor que complejo.'"
      ]
     },
     "execution_count": 9,
     "metadata": {},
     "output_type": "execute_result"
    }
   ],
   "source": [
    "str(en_blob.translate(to='es'))"
   ]
  },
  {
   "cell_type": "code",
   "execution_count": 10,
   "metadata": {},
   "outputs": [
    {
     "data": {
      "text/plain": [
       "'en'"
      ]
     },
     "execution_count": 10,
     "metadata": {},
     "output_type": "execute_result"
    }
   ],
   "source": [
    "en_blob.detect_language()"
   ]
  },
  {
   "cell_type": "code",
   "execution_count": 11,
   "metadata": {},
   "outputs": [
    {
     "data": {
      "text/plain": [
       "'es'"
      ]
     },
     "execution_count": 11,
     "metadata": {},
     "output_type": "execute_result"
    }
   ],
   "source": [
    "es_blob.detect_language()"
   ]
  },
  {
   "cell_type": "code",
   "execution_count": 13,
   "metadata": {},
   "outputs": [
    {
     "data": {
      "text/plain": [
       "'Einfach ist besser als komplex.'"
      ]
     },
     "execution_count": 13,
     "metadata": {},
     "output_type": "execute_result"
    }
   ],
   "source": [
    "str(es_blob.translate(to='de'))"
   ]
  },
  {
   "cell_type": "code",
   "execution_count": 16,
   "metadata": {
    "collapsed": true
   },
   "outputs": [],
   "source": [
    "longer_en_blob = TextBlob(longer_text)"
   ]
  },
  {
   "cell_type": "code",
   "execution_count": 20,
   "metadata": {},
   "outputs": [],
   "source": [
    "translated_text = str(longer_en_blob.translate(to='sk'))"
   ]
  },
  {
   "cell_type": "code",
   "execution_count": 22,
   "metadata": {},
   "outputs": [
    {
     "data": {
      "text/plain": [
       "'Washington (CNN) Bieleho domu a Kongresu sa mesiace mesiace zaoberajú návrhom zákona, ktorý by dal zákonodarcom väčšie slovo v iránskej jadrovej dohode, ktorú administratíva kladie spolu s ostatnými svetovými mocnosťami.\\n\\nA teraz, menej ako dva týždne po dosiahnutí rámcovej dohody s Teheránom, výbor Senátu pre zahraničné vzťahy plánuje toto opatrenie začať.\\n\\nV utorok výbor zváži zmeny a doplnenia zákona o preskúmaní jadrových dohôd s republikánskym senátorom Bobom Corkerom v Tennessee predtým, ako sa rozhodne, či má hlasovať o plnom senáte.\\n\\nPre mnohých v Kongrese je to veľmi jednoduchý predpoklad: Kongres by mal zvážiť podmienky konečného jadrového riešenia s Iránom.\\n\\nAle v prípade Bieleho domu a niektorých demokratov v Kongrese je to výbušná myšlienka, ktorá by mohla vyrušiť rozhovory - a preto musí byť zastavená.\\n\\nTakže čo je v účte?\\n\\nZástancovia legislatívy zdôraznili, že to umožní Kongresu, aby dal palec hore alebo dole na dohodu Prezident Barack Obama sa snaží dokončiť s Iránom v termíne rokovaní 30. júna. Zástancovia si myslia, že je to spravodlivé, pretože Spojené štáty uvažujú o veľkej jadrovej dohode s desaťročným nepriateľom.\\n\\nNávrh by dal Kongresu príležitosť usporiadať vypočutia, usporiadať stretnutia a pripraviť cestu k hlasovaniu o spoločnom uznesení, ktoré by mohlo vyjadriť súhlas alebo nesúhlas s dohodou. Vyžaduje tiež, aby Obamova administratíva rýchlo podala správu Kongresu o podrobnostiach dohody a pravidelne posúdila, či Irán zachováva svoju dohodu'"
      ]
     },
     "execution_count": 22,
     "metadata": {},
     "output_type": "execute_result"
    }
   ],
   "source": [
    "translated_text"
   ]
  },
  {
   "cell_type": "code",
   "execution_count": 23,
   "metadata": {},
   "outputs": [
    {
     "data": {
      "text/plain": [
       "\"The Washington (CNN) White House and Congress have been dealing with a draft law for months to give the legislator a bigger say in the Iranian nuclear agreement that the administration places with other world powers.\\n\\nAnd now, less than two weeks after reaching a framework agreement with Tehran, the Senate Committee on Foreign Relations plans to take this action.\\n\\nOn Tuesday, the committee will consider amendments to the Law on Review of Nuclear Agreements with Republican Senator Bob Corker in Tennessee before deciding whether to vote on a full Senate.\\n\\nFor many in Congress, this is a very simple assumption: Congress should consider the conditions for a final nuclear solution with Iran.\\n\\nBut in the case of the White House and some Democrats in Congress, it's an explosive idea that could break the talks - and that's why it has to be stopped.\\n\\nSo what's in your account?\\n\\nSupporters of legislation stressed that this would allow Congress to give thumbs up or down to a deal President Barack Obama is trying to finish with Iran on June 30th. Supporters think this is fair because the United States is considering a major nuclear agreement with a ten-year-old enemy.\\n\\nThe proposal would give Congress the opportunity to hold hearings, hold meetings, and prepare a way to vote on a joint resolution that could agree or disagree with the agreement. It also requires the Obama administration to report quickly to Congress on the details of the agreement and to regularly assess whether Iran maintains its agreement\""
      ]
     },
     "execution_count": 23,
     "metadata": {},
     "output_type": "execute_result"
    }
   ],
   "source": [
    "str(TextBlob(translated_text).translate(from_lang='sk', to='en'))"
   ]
  },
  {
   "cell_type": "code",
   "execution_count": null,
   "metadata": {
    "collapsed": true
   },
   "outputs": [],
   "source": []
  }
 ],
 "metadata": {
  "kernelspec": {
   "display_name": "Python 3",
   "language": "python",
   "name": "python3"
  },
  "language_info": {
   "codemirror_mode": {
    "name": "ipython",
    "version": 3
   },
   "file_extension": ".py",
   "mimetype": "text/x-python",
   "name": "python",
   "nbconvert_exporter": "python",
   "pygments_lexer": "ipython3",
   "version": "3.5.4"
  }
 },
 "nbformat": 4,
 "nbformat_minor": 2
}
