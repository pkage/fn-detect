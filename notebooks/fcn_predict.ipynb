{
 "cells": [
  {
   "cell_type": "code",
   "execution_count": null,
   "metadata": {
    "collapsed": true
   },
   "outputs": [],
   "source": [
    "input_path = '../models/embeddings/glove.6B.300d.txt'"
   ]
  },
  {
   "cell_type": "code",
   "execution_count": null,
   "metadata": {
    "collapsed": true
   },
   "outputs": [],
   "source": [
    "def word_mapping(input_file):\n",
    "\n",
    "    with open(input_path,'rb') as f:\n",
    "        word_entries = f.readlines()\n",
    "\n",
    "    glove_weights = np.zeros((len(word_entries), embeddings_dims))\n",
    "    words = []\n",
    "    for i, entry in enumerate(word_entries):\n",
    "        word_weights = entry.split()\n",
    "        word = word_weights[0]\n",
    "        words.append(word)\n",
    "        weights = word_weights[1:]\n",
    "        glove_weights[i] = np.array([float(w) for w in weights])\n",
    "    word_vocab = [w.decode(\"utf-8\") for w in words]\n",
    "    word2vec = dict(zip(word_vocab, glove_weights))\n",
    "    return word2vec"
   ]
  },
  {
   "cell_type": "code",
   "execution_count": null,
   "metadata": {
    "collapsed": true
   },
   "outputs": [],
   "source": [
    "def process_text(text):\n",
    "    text = text.str.lower()\n",
    "    text = text.str.replace(r'[^\\.\\w\\s]','') #remove everything but characters and punctuation\n",
    "    text = text.str.replace(r'\\.\\.+','.') #replace multple periods with a single one\n",
    "    text = text.str.replace(r'\\.',' . ') #replace multple periods with a single one\n",
    "    text = text.str.replace(r'\\s\\s+',' ') #replace multple white space with a single one\n",
    "    text = text.str.strip() \n",
    "    return text\n",
    "    \n",
    "def transform(text, word2vec)\n",
    "    word_list = text.split()\n",
    "    embedding_mean np.mean([word2vec[word] for word in word_list if word in word2vec] or [np.zeros(embeddings_dims)], axis=0)\n",
    "    return embedding_mean"
   ]
  },
  {
   "cell_type": "code",
   "execution_count": null,
   "metadata": {
    "collapsed": true
   },
   "outputs": [],
   "source": [
    "def main(text):\n",
    "    word2vec = word_mapping(input_path)\n",
    "    text = process_text(text)\n",
    "    "
   ]
  },
  {
   "cell_type": "code",
   "execution_count": null,
   "metadata": {
    "collapsed": true
   },
   "outputs": [],
   "source": [
    "    "
   ]
  }
 ],
 "metadata": {
  "kernelspec": {
   "display_name": "Python 3",
   "language": "python",
   "name": "python3"
  },
  "language_info": {
   "codemirror_mode": {
    "name": "ipython",
    "version": 3
   },
   "file_extension": ".py",
   "mimetype": "text/x-python",
   "name": "python",
   "nbconvert_exporter": "python",
   "pygments_lexer": "ipython3",
   "version": "3.5.2"
  }
 },
 "nbformat": 4,
 "nbformat_minor": 2
}
